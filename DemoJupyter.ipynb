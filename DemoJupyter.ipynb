{
 "cells": [
  {
   "cell_type": "code",
   "execution_count": null,
   "id": "e6b02c82-87f1-4131-b4ba-8378c63e4e39",
   "metadata": {},
   "outputs": [],
   "source": [
    "%load_ext autoreload\n",
    "%autoreload 2"
   ]
  },
  {
   "cell_type": "code",
   "execution_count": null,
   "id": "820f1b40-c1df-404c-99db-0591ffee57da",
   "metadata": {},
   "outputs": [],
   "source": [
    "from example import do_something_cool"
   ]
  },
  {
   "cell_type": "code",
   "execution_count": null,
   "id": "7fbdcbe0-6629-4bcb-81b4-9b94385a5bd8",
   "metadata": {},
   "outputs": [],
   "source": [
    "do_something_cool()"
   ]
  },
  {
   "cell_type": "code",
   "execution_count": null,
   "id": "520d32ad-49e2-47ee-93ee-382ee126482a",
   "metadata": {},
   "outputs": [],
   "source": [
    "import numpy as np"
   ]
  },
  {
   "cell_type": "code",
   "execution_count": null,
   "id": "cb91566d-acc4-493a-900e-a60dafe43285",
   "metadata": {},
   "outputs": [],
   "source": [
    "np.poly?"
   ]
  },
  {
   "cell_type": "code",
   "execution_count": null,
   "id": "017d866a-1529-4621-ae30-e267bd8440c5",
   "metadata": {},
   "outputs": [],
   "source": [
    "def addTogether(arr):\n",
    "    \"\"\"Our add together function!!!!\"\"\"\n",
    "    total = 0\n",
    "    for x in arr:\n",
    "        total += x\n",
    "    return total"
   ]
  },
  {
   "cell_type": "code",
   "execution_count": null,
   "id": "5171c07f-dfe6-45b5-bff4-5687bb8e0d0f",
   "metadata": {},
   "outputs": [],
   "source": [
    "addTogether?"
   ]
  },
  {
   "cell_type": "code",
   "execution_count": null,
   "id": "a3388ed8-fe25-4a7d-9ddc-8cbb2483d728",
   "metadata": {},
   "outputs": [],
   "source": [
    "x = np.arange(0,1000000)"
   ]
  },
  {
   "cell_type": "code",
   "execution_count": null,
   "id": "d8dfb939-ce8a-4ff2-ad32-8d1b039a58d7",
   "metadata": {},
   "outputs": [],
   "source": [
    "addTogether(x)"
   ]
  },
  {
   "cell_type": "code",
   "execution_count": null,
   "id": "32c232ae-4bc5-49a5-bc4c-76d7bf97ff4d",
   "metadata": {},
   "outputs": [],
   "source": [
    "%timeit addTogether(x)"
   ]
  },
  {
   "cell_type": "code",
   "execution_count": null,
   "id": "ce873b7a-a1d1-4ee8-b4c9-1ec1a6260337",
   "metadata": {},
   "outputs": [],
   "source": [
    "%timeit np.sum(x)"
   ]
  },
  {
   "cell_type": "code",
   "execution_count": null,
   "id": "a685a7c8-ad52-4a45-b019-656968590834",
   "metadata": {},
   "outputs": [],
   "source": [
    "%pip install line_profiler"
   ]
  },
  {
   "cell_type": "code",
   "execution_count": null,
   "id": "da3c7bf8-8079-44d3-97a2-545b68466134",
   "metadata": {},
   "outputs": [],
   "source": [
    "%load_ext line_profiler"
   ]
  },
  {
   "cell_type": "code",
   "execution_count": null,
   "id": "65676ca4-67f8-4c77-bce9-7b0768b63003",
   "metadata": {},
   "outputs": [],
   "source": [
    "%lprun -f addTogether addTogether(x)"
   ]
  },
  {
   "cell_type": "code",
   "execution_count": null,
   "id": "44059714-77af-4ed0-9158-bed4fde1859e",
   "metadata": {},
   "outputs": [],
   "source": [
    "import matplotlib.pyplot as plt\n",
    "import numpy as np\n",
    "%matplotlib widget\n",
    "#This activates interactive matplotlib"
   ]
  },
  {
   "cell_type": "code",
   "execution_count": null,
   "id": "eb7d866b-60f5-48ae-8b49-5195ad7ae2ac",
   "metadata": {},
   "outputs": [],
   "source": [
    "x = np.linspace(-np.pi*50, np.pi*50, 1000)\n",
    "\n",
    "plt.figure()\n",
    "plt.plot(x, np.sin(x))\n",
    "plt.show()"
   ]
  },
  {
   "cell_type": "code",
   "execution_count": null,
   "id": "ce8a2953-4de8-48ef-918f-40ff9acd5d36",
   "metadata": {},
   "outputs": [],
   "source": [
    "from ipywidgets.widgets import interact\n",
    "fig, ax = plt.subplots()\n",
    "x = np.linspace(-np.pi, np.pi, 1000)\n",
    "\n",
    "line, = ax.plot(x, np.sin(x))\n",
    "\n",
    "funcs = {\n",
    "    'sin': np.sin,\n",
    "    'cos': np.cos,\n",
    "    'exp': np.exp,\n",
    "}\n",
    "\n",
    "@interact(factor=(1.0,50.0), func_choice=['sin','cos', 'exp'])\n",
    "def update(factor=1.0, func_choice='sin'):\n",
    "    x = np.linspace(-np.pi*factor, np.pi*factor, 1000)\n",
    "    line.set_xdata(x)\n",
    "    line.set_ydata(funcs[func_choice](x))\n",
    "    ax.relim()\n",
    "    ax.autoscale_view()\n",
    "    fig.canvas.draw()\n",
    "    \n"
   ]
  },
  {
   "cell_type": "code",
   "execution_count": null,
   "id": "fe42c780-0e90-4b6b-b670-6702a2d289b1",
   "metadata": {},
   "outputs": [],
   "source": []
  }
 ],
 "metadata": {
  "kernelspec": {
   "display_name": "Python 3 (ipykernel)",
   "language": "python",
   "name": "python3"
  },
  "language_info": {
   "codemirror_mode": {
    "name": "ipython",
    "version": 3
   },
   "file_extension": ".py",
   "mimetype": "text/x-python",
   "name": "python",
   "nbconvert_exporter": "python",
   "pygments_lexer": "ipython3",
   "version": "3.9.10"
  }
 },
 "nbformat": 4,
 "nbformat_minor": 5
}
